{
 "cells": [
  {
   "cell_type": "markdown",
   "metadata": {},
   "source": [
    "# Spotify Models"
   ]
  },
  {
   "cell_type": "markdown",
   "metadata": {},
   "source": [
    "<font color=red>Need bullshiting something for the start</font>\n",
    "\n",
    "In this script, we include:\n",
    "\n",
    "1. Baseline model: we adopt 'Jaccard similarity' to calculate similarity score of each pair of playlist in our dataset, and predict the tracks in similar playlists.\n",
    "\n",
    "2. Advanced models\n",
    " - <font color=red>David's model 1\n",
    " - David's model 2\n",
    " - David's model n...</font>\n",
    " - artificial neural network: we use latent vector to create a collaborative filtering neural network and use the model to predict the \"interaction\" score for user(playlist) and item(track), we include the parameter selection process and the final model fitting\n",
    "\n",
    "3. Combined model: combine baseline and advanced model together to generate the final recommendation list."
   ]
  },
  {
   "cell_type": "code",
   "execution_count": 1,
   "metadata": {},
   "outputs": [
    {
     "name": "stderr",
     "output_type": "stream",
     "text": [
      "Using TensorFlow backend.\n"
     ]
    }
   ],
   "source": [
    "#import related packages\n",
    "import json\n",
    "import pandas as pd\n",
    "import numpy as np\n",
    "import scipy.sparse as sp\n",
    "import keras\n",
    "from keras import backend as K\n",
    "from keras.models import Sequential, Model, load_model, save_model\n",
    "from keras.layers.core import Dense, Lambda, Activation\n",
    "from keras.layers import Embedding, Input, Dense, merge, Reshape, Flatten, add\n",
    "from keras.optimizers import Adam\n",
    "from keras.regularizers import l2\n",
    "from time import time\n",
    "import multiprocessing as mp\n",
    "import sys\n",
    "import math\n",
    "from sklearn.model_selection import train_test_split\n",
    "from collections import Counter\n",
    "import matplotlib.pyplot as plt\n",
    "from timeit import default_timer as timer"
   ]
  },
  {
   "cell_type": "markdown",
   "metadata": {},
   "source": [
    "# Dataset Preparation"
   ]
  },
  {
   "cell_type": "code",
   "execution_count": 2,
   "metadata": {},
   "outputs": [],
   "source": [
    "#count script running times\n",
    "start = timer()"
   ]
  },
  {
   "cell_type": "code",
   "execution_count": 3,
   "metadata": {},
   "outputs": [],
   "source": [
    "#function: combine separate dataset and get the \n",
    "#playlists(a dictionary with key of playlist id and value of a list of tracks)\n",
    "\n",
    "#input: n is how many piece of data that will be generated(1 piece of data has 1,000 playlists)\n",
    "#       m is the starting point(eg. the 1th piece of data)\n",
    "#output: a dictionary containing users(playlists id) and track names\n",
    "\n",
    "def load_dataset(n, m):\n",
    "    c = m*1000\n",
    "    playlists = {}\n",
    "    for p in range(m, n+m):\n",
    "        start = p*1000\n",
    "        end = start+999\n",
    "        with open('data/mpd.slice.{0}-{1}.json'.format(start, end)) as f:\n",
    "            piece = json.load(f)\n",
    "            play_list = [lst['tracks'] for lst in piece['playlists']]\n",
    "            for ply in play_list:\n",
    "                track_names = [track_name['track_name'] for track_name in ply]\n",
    "                playlists[c] = track_names\n",
    "                c += 1\n",
    "    return playlists"
   ]
  },
  {
   "cell_type": "code",
   "execution_count": 4,
   "metadata": {},
   "outputs": [],
   "source": [
    "#function: get the dataframe(index, user, track, interaction{1=interaction exists})\n",
    "#input: a dictionary of playlist\n",
    "#output: the cleaned dataframe\n",
    "\n",
    "def get_data(playlists):\n",
    "    users, items = [], []\n",
    "    for user in playlists:\n",
    "        for item in playlists[user]:\n",
    "            users.append(user)\n",
    "            items.append(item)\n",
    "            \n",
    "    data = pd.DataFrame(users, columns=['user'])\n",
    "    data['track'] = items\n",
    "    \n",
    "    #encoding the track names into numbers\n",
    "    data['track'] = data['track'].astype('category').cat.codes\n",
    "    \n",
    "    return data "
   ]
  },
  {
   "cell_type": "markdown",
   "metadata": {},
   "source": [
    "There will be two dataset to work on:\n",
    "- the first is the full dataset including 10,000 playlists(the first 10 pieces of the whole dataset), it will be used for model training and tesing.\n",
    "- the second dataset is the dataset used for model parameter optimization (cross validation to select best parameter)"
   ]
  },
  {
   "cell_type": "markdown",
   "metadata": {},
   "source": [
    "The final dataset will be finally like:\n",
    "![baseline model](image/data_example.jpg)\n",
    "\n",
    "where \"user\" is defined as each individual playlist. The \"track\" is randomly selected tracks in the full dataset, noted that each track is encoded into numbers. The \"y\" is the interaction of the user and item(playlist). If the track exists in the playlist, the \"y\" (interaction) will be 1, otherwise it will be 0."
   ]
  },
  {
   "cell_type": "code",
   "execution_count": 5,
   "metadata": {},
   "outputs": [],
   "source": [
    "#Define the size of data\n",
    "n_playlist = 10\n",
    "m_playlist = 0\n",
    "n_adjust = 1\n",
    "m_adjust = 10"
   ]
  },
  {
   "cell_type": "code",
   "execution_count": 6,
   "metadata": {},
   "outputs": [],
   "source": [
    "#Get the two dataset\n",
    "data_full = get_data(load_dataset(n_playlist, m_playlist))\n",
    "data_adjust = get_data(load_dataset(n_adjust, m_adjust))\n",
    "data_adjust.user = data_adjust.user-m_adjust*1000"
   ]
  },
  {
   "cell_type": "markdown",
   "metadata": {},
   "source": [
    "# Baseline Model"
   ]
  },
  {
   "cell_type": "markdown",
   "metadata": {},
   "source": [
    "**Model Description**\n",
    "\n",
    "The baseline model is based on comparing each pair of “tracks” and hence computing the “similarity score” by using the 'Jaccard similarity' similarity measurement:\n",
    "![jaccard similarity](image/jaccard_similarity.jpg)\n",
    "\n",
    "The dataset we use in baseline model is the full dataset(10,000) playlist.\n",
    "\n",
    "The baseline model assumes that one user owns at least one playlist, and it computes the similarity score\n",
    "of this user playlist with each of the playlists in the dataset. The recommendation tracks will be generated from\n",
    "the playlist that has the highest similarity with the user playlist.\n",
    "\n",
    "In this model, we only include a sample dataset of 10,000 playlists from the whole dataset (1 million\n",
    "playlists). We split the sample dataset into a Playlist Bank and a Training set. The Playlist Bank contains\n",
    "90% of the data (9,000) playlists and the Training Set contains 10% of the data(1,000) playlists. For each playlist in the Training Set, we hide one track to be the track that we try to predict, and we set the rest as our predictors. For each training list, if the hidden track exist in our prediction track list, we will define the error rate of this training list to 0, otherwise, to 1. And we average the total error of 500 playlists to be our total error rate.\n",
    "\n",
    "For the final recommendation tracks, we will first get the not-overlap tracks in top 5 similary playlists, and randomly select 100 as our recommendation."
   ]
  },
  {
   "cell_type": "markdown",
   "metadata": {},
   "source": [
    "**Model design**"
   ]
  },
  {
   "cell_type": "markdown",
   "metadata": {},
   "source": [
    "![baseline model](image/baseline_model.jpg)"
   ]
  },
  {
   "cell_type": "code",
   "execution_count": 7,
   "metadata": {},
   "outputs": [],
   "source": [
    "#split the data into playlist bank (90%) and training set (10%)\n",
    "playlist_bank = {}\n",
    "for user in range(n_playlist*900):\n",
    "    playlist_bank[user] = list(data_full[data_full['user']==user]['track'])\n",
    "\n",
    "playlist_data = {}\n",
    "for user in range(n_playlist*900, n_playlist*1000):\n",
    "    playlist_data[user] = list(data_full[data_full['user']==user]['track'])"
   ]
  },
  {
   "cell_type": "code",
   "execution_count": 8,
   "metadata": {},
   "outputs": [
    {
     "name": "stdout",
     "output_type": "stream",
     "text": [
      "9000\n",
      "1000\n"
     ]
    }
   ],
   "source": [
    "#check out the length of playlist bank and the training set\n",
    "print(len(playlist_bank))\n",
    "print(len(playlist_data))"
   ]
  },
  {
   "cell_type": "code",
   "execution_count": 9,
   "metadata": {},
   "outputs": [],
   "source": [
    "#define the similarity function\n",
    "#input: two list with items\n",
    "#output: the similairty score of two lists\n",
    "def cal_similarity(list_one, list_two):\n",
    "    no_overlap = list(Counter(list_one)-Counter(list_two))\n",
    "    similarity = ((len(list_one)-len(no_overlap))*2)/(len(list_one)+len(list_two))\n",
    "    return similarity"
   ]
  },
  {
   "cell_type": "code",
   "execution_count": 10,
   "metadata": {},
   "outputs": [],
   "source": [
    "# Create the function to hide the first track in each playlist\n",
    "#input: the dictionary of playlists\n",
    "#output: a list of the hidden track and a dictionary of users and the unhidden tracks\n",
    "def hide_track(playlists):\n",
    "    track_hide = []\n",
    "    track_train = {}\n",
    "    for key in playlists:\n",
    "        track_hide.append(playlists[key][0])\n",
    "        track_train[key] = playlists[key][1:]\n",
    "    return track_hide, track_train"
   ]
  },
  {
   "cell_type": "code",
   "execution_count": 11,
   "metadata": {},
   "outputs": [],
   "source": [
    "# Create the function of getting the recommendation list\n",
    "#input: the playlists that is to be predicted\n",
    "#       the playlist bank\n",
    "#       the number of similar playlist that need to be generated\n",
    "#output: the list of recommendation tracks\n",
    "\n",
    "def get_recommendation_list(track_train, playlist_bank, no_similar_playlist):\n",
    "    recommendation_track = []\n",
    "    time_train = 0\n",
    "    for ut in track_train:\n",
    "        sim_score = np.zeros(len(playlist_bank))\n",
    "        time_bank = 0\n",
    "        for ub in playlist_bank:\n",
    "            sim_score[time_bank] = cal_similarity(track_train[ut], playlist_bank[ub])\n",
    "            time_bank += 1\n",
    "        similarity_df = pd.DataFrame(sim_score, index=range(len(sim_score)))\n",
    "        similarity_df = similarity_df.sort_values(by=0, ascending=False)\n",
    "        index = list(similarity_df.index[[x for x in range(no_similar_playlist)]])\n",
    "        sample_names = []\n",
    "        for i in index:\n",
    "            sample_names.append(playlist_bank[i])\n",
    "        recommendation_track.append([track for playlist in sample_names for track in playlist])\n",
    "        time_train += 1\n",
    "    return recommendation_track    "
   ]
  },
  {
   "cell_type": "code",
   "execution_count": 12,
   "metadata": {},
   "outputs": [],
   "source": [
    "#Get the list of hidden track and the dictionary of training tracks\n",
    "track_hide, track_train_base = hide_track(playlist_data)"
   ]
  },
  {
   "cell_type": "code",
   "execution_count": 13,
   "metadata": {},
   "outputs": [],
   "source": [
    "#Get the top 5 similar playlists as our base of recommendation list\n",
    "#Randomly select 100 of them as our final recommendation\n",
    "recommendation_list = get_recommendation_list(track_train_base, playlist_bank, 5)\n",
    "no_recommendation = 100"
   ]
  },
  {
   "cell_type": "code",
   "execution_count": 14,
   "metadata": {},
   "outputs": [],
   "source": [
    "#Calculate the score of the prediction\n",
    "scores = np.zeros(len(track_train_base))\n",
    "for n in range(len(track_hide)):\n",
    "    not_overlap = list(Counter(recommendation_list[n])-Counter(track_train_base[n+900*m_adjust]))\n",
    "    np.random.shuffle(not_overlap)\n",
    "    recommendation = np.array(not_overlap)[:no_recommendation]\n",
    "    if track_hide[n] in recommendation:\n",
    "        scores[n] = 1\n",
    "score = np.mean(scores)    "
   ]
  },
  {
   "cell_type": "code",
   "execution_count": 40,
   "metadata": {},
   "outputs": [
    {
     "name": "stdout",
     "output_type": "stream",
     "text": [
      "The score is 0.171\n"
     ]
    }
   ],
   "source": [
    "print('The score is {0}'.format(score))"
   ]
  },
  {
   "cell_type": "markdown",
   "metadata": {},
   "source": [
    "We can see that the score is very low of this baseline model because it has several limiations:\n",
    "\n",
    "1. Bias in calculating similarity score: although the process of finding the hidden track is supervised, the process of calculating similarity score is actually unsupervised since we don’t have an exact benchmark for “similarity of two playlists”. Therefore, the similarity score we calculated may be hesitated.\n",
    "\n",
    "2. Even though we find the top 5 similar playlists, we applied no but the random selection techque in choosing the 100 tracks as our recommendation. Other critera will be explored in advanced models.\n",
    "\n",
    "3. Too much related to the sample size: the sample is small, and it only contains 1% of the original dataset. The bigger the Playlist Bank, the higher the probability we find a “twin” of our training list.\n",
    "\n",
    "4. Predictor selection: the only predictor we use to compute the similarity is “track_name” in the playlist. However, there are more predictors in the dataset that seem to be useful, such as “album_name”, “artist_name”, “popular_artist”, “popular_album”, “playlist_name”, and so on. They will be exlored in the advanced modeling.\n",
    "\n",
    "5. Computation cost: the computation cost need to be reduced.\n",
    "\n",
    "7. Cold-start problem: since the model assumes that there is already an existing playlist for one user, it does not take the “cold-start” problem into account. This issue should be discussed in the advanced model."
   ]
  },
  {
   "cell_type": "markdown",
   "metadata": {},
   "source": [
    "# Improved Models"
   ]
  },
  {
   "cell_type": "markdown",
   "metadata": {},
   "source": [
    "<font color=red>Say something for starting...</font>"
   ]
  },
  {
   "cell_type": "markdown",
   "metadata": {},
   "source": [
    "<font color=red>Input Davids models</font>"
   ]
  },
  {
   "cell_type": "markdown",
   "metadata": {},
   "source": [
    "## Artificial Neural Network"
   ]
  },
  {
   "cell_type": "markdown",
   "metadata": {},
   "source": [
    "\n",
    "Our artificial neural network is based on the research of the paper: **Neural Collaborative Filtering** https://arxiv.org/pdf/1708.05031.pdf. In this paper, the matrix factorization and lantent vector technique is applied to deal with the input of data and these two techniques will be used in the artificial neural network we created."
   ]
  },
  {
   "cell_type": "markdown",
   "metadata": {},
   "source": [
    "**Model Description**\n",
    "\n",
    "We will do a little manipulation in our data to put it into a matrix: matrix shown below.\n",
    "Each row of the matrix represent the user(playlist) and each column of matrix represent the item(tracks). The value of the matrix is the \"interaction\". We mark \"1\" as the interaction of user and item exist and 0 otherwise. As illustrated before, the \"interaction\" means that the user have the item in his/her pocket.\n",
    "![Compare](image/compare.jpg)\n",
    "\n",
    "Matrix Factorization (MF) associates each user and item with a real-valued vector of latent features. It is shown below. The latent features are presented in the right handside of the above figures as compared with the matrix. As the research of **Neural Collaborative Filtering** indicated, there are some differences between \"Jaccard similarity\" and the \"matrix factorization\": in matrix, the u4 is most similar to u1, followed by u3 and u2 while in MF, the P4 is similar to P1, followed by P2 and P3 which indicated the \"ranking lost\" of MF. This could be one of the source of the model limitations.\n",
    "![MF](image/mf.jpg)"
   ]
  },
  {
   "cell_type": "markdown",
   "metadata": {},
   "source": [
    "**Model Design**\n",
    "\n",
    "Our neural network aimed to estimate the function to predict the y_hat(ui). The input layer includes two dataset: the \"user\" and \"track\". The second layer is the embedding layer with user latent vector and track latent vector. And we added other layers in neural network to tune our predictions. The output layer is the predicted \"interaction\" ('y' in dataset). The prediction score is a probability ranged from 0 to 1. The probability indicated the likelyhood of the iteraction between the playlist and track. The higher the probability, the more likely that the user will like the track.\n",
    "![Neural Network Model](image/neural_network_model.jpg)"
   ]
  },
  {
   "cell_type": "markdown",
   "metadata": {},
   "source": [
    "**Adjusting Model Parameter**\n",
    "\n",
    "There are several parameters here that we need to adjust while we could not show the process of all of it for this scope of project. Hence, we apply most of the parameters tested in previous paper and show just three of them in this project: latent_dims, learning rate, epochs.\n",
    "\n",
    "The dataset we use adjust the parameters is the data_adjust, which take the 10th piece of the original data(1000 playlists). We seperate the data into training and testing(validation) set for the ratio of 0.8 to 0.2. After adjuting the parameter, we build our final model for the optimal parameters and fit the full dataset(10,000 playlist) like we did in previous model.\n",
    "\n",
    "**About Prediction**\n",
    "\n",
    "The prediction of this model will not be a recommendation list but the likelihood of if the user will posisbly interact with each specific track."
   ]
  },
  {
   "cell_type": "code",
   "execution_count": 19,
   "metadata": {},
   "outputs": [],
   "source": [
    "#create the matrix for (user, track)\n",
    "#input: a dataframe of (user, track, interaction)\n",
    "#output: the designed matrix\n",
    "def get_matrix(data, no_interaction):\n",
    "    num_user = len(data['user'].unique())\n",
    "    num_track = len(data['track'].unique())\n",
    "    data_matrix = sp.dok_matrix((num_user, num_track), dtype=np.float32)\n",
    "    for u, t in zip(data['user'], data['track']):\n",
    "        data_matrix[u, t] = 1.0\n",
    "    return num_user, num_track, data_matrix"
   ]
  },
  {
   "cell_type": "markdown",
   "metadata": {},
   "source": [
    "**As we know, the unique tracks in all the 10,000 playlists will be huge. Hence, if we use all the tracks that exist and donnot exist in each individual user, the portion of \"not existing\" tracks will be much bigger than that of \"existing tracks\". Therefore, if we do so, our prediction will always prediction the track to \"not exist\" in the playlist and we will get a high score of 0.99999999. It doesn't make sense though.**\n",
    "\n",
    "**So the following functions is to randomly get our training data to make it include 0.5-0.5 true and false response portion in both our training and test set so that our decision boundry will be 0.5 as default in neural network.**"
   ]
  },
  {
   "cell_type": "code",
   "execution_count": 20,
   "metadata": {},
   "outputs": [],
   "source": [
    "#get the random features\n",
    "#input: the data matrix\n",
    "#output: the desighed user, track input and response variable\n",
    "def get_features(data_matrix):\n",
    "    num_user, num_track = data_matrix.shape\n",
    "    user_data, track_data, y_data = [],[],[]\n",
    "    \n",
    "    for (u, i) in data_matrix.keys():\n",
    "        user_data.append(u)\n",
    "        track_data.append(i)\n",
    "        y_data.append(1)\n",
    "        \n",
    "        for t in range(no_interaction):\n",
    "            j = np.random.randint(num_track)\n",
    "            while (u,j) in data_matrix:\n",
    "                j = np.random.randint(num_user)\n",
    "            user_data.append(u)\n",
    "            track_data.append(j)\n",
    "            y_data.append(0)\n",
    "                \n",
    "    return user_data, track_data, y_data"
   ]
  },
  {
   "cell_type": "code",
   "execution_count": 21,
   "metadata": {},
   "outputs": [],
   "source": [
    "#build the model\n",
    "def build_model(num_user, num_track, latent_dim):\n",
    "    user_train = Input(shape=(1,), dtype='int32', name = 'user_train')\n",
    "    track_train = Input(shape=(1,), dtype='int32', name = 'track_train')\n",
    "\n",
    "    MF_Embedding_user = Embedding(input_dim = num_user, output_dim = latent_dim, embeddings_initializer='uniform', embeddings_regularizer = l2([0,0][0]), input_length=1)\n",
    "    MF_Embedding_track = Embedding(input_dim = num_track, output_dim = latent_dim, embeddings_initializer='uniform', embeddings_regularizer = l2([0,0][0]), input_length=1)   \n",
    "    \n",
    "    user_latent = Flatten()(MF_Embedding_user(user_train))\n",
    "    track_latent = Flatten()(MF_Embedding_track(track_train))\n",
    "\n",
    "    predictor = add([user_latent, track_latent])\n",
    "    prediction = Dense(1, activation=\"sigmoid\", name=\"prediction\", kernel_initializer=\"lecun_uniform\")(predictor)\n",
    "    NNmodel = Model(inputs=[user_train, track_train], outputs=prediction)\n",
    "    return NNmodel"
   ]
  },
  {
   "cell_type": "markdown",
   "metadata": {},
   "source": [
    "**Parameter Selection**"
   ]
  },
  {
   "cell_type": "code",
   "execution_count": 22,
   "metadata": {},
   "outputs": [],
   "source": [
    "#define the function to make plot for selection parameters\n",
    "def make_plot(x, y_train, y_test, name):\n",
    "    fig, ax = plt.subplots(1,1, figsize=(8, 5))\n",
    "    ax.plot(x, y_train, label='train')\n",
    "    ax.plot(x, y_test, label='test')\n",
    "    ax.set_xlabel(name)\n",
    "    ax.set_ylabel('scores')\n",
    "    ax.set_title('{} Selection'.format(name))\n",
    "    ax.legend()\n",
    "    return"
   ]
  },
  {
   "cell_type": "code",
   "execution_count": 23,
   "metadata": {},
   "outputs": [],
   "source": [
    "#get matrix\n",
    "no_interaction = 1\n",
    "num_user, num_track, matrix = get_matrix(data_adjust, no_interaction)\n",
    "user, track, y = get_features(matrix)\n",
    "data_nn = pd.DataFrame(user, columns=['user'])\n",
    "data_nn['track'] = track\n",
    "data_nn['y'] = y\n",
    "\n",
    "#get train and test data\n",
    "data_copy = data_nn.copy()\n",
    "data_test = pd.DataFrame(columns=['user', 'track', 'y'])\n",
    "for n in range(n_adjust*900, n_adjust*1000):\n",
    "    data_hide = data_copy[data_copy.user == n].iloc[0:2]\n",
    "    data_test = data_test.append(data_hide)\n",
    "    \n",
    "data_train = data_copy.drop(data_test.index)\n",
    "\n",
    "user_train = data_train.user\n",
    "track_train = data_train.track\n",
    "y_train = data_train.y\n",
    "\n",
    "user_test = data_test.user\n",
    "track_test = data_test.track\n",
    "y_test = data_test.y"
   ]
  },
  {
   "cell_type": "code",
   "execution_count": 24,
   "metadata": {},
   "outputs": [],
   "source": [
    "#define parameter range\n",
    "latent_dims = [1, 2, 3, 4, 5, 10, 15, 20, 25, 30, 35, 40, 50, 60, 70, 80, 100]\n",
    "learning_rates = [0.0001, 0.0005, 0.001, 0.005, 0.01, 0.05, 0.1, 0.5]\n",
    "epochss = [3, 20]"
   ]
  },
  {
   "cell_type": "markdown",
   "metadata": {},
   "source": [
    "**1. Latent Dimension Selection**"
   ]
  },
  {
   "cell_type": "code",
   "execution_count": 25,
   "metadata": {},
   "outputs": [
    {
     "name": "stdout",
     "output_type": "stream",
     "text": [
      "Train on 104548 samples, validate on 26138 samples\n",
      "Epoch 1/3\n",
      "104548/104548 [==============================] - 2s 22us/step - loss: 0.6928 - acc: 0.5133 - val_loss: 0.6918 - val_acc: 0.5376\n",
      "Epoch 2/3\n",
      "104548/104548 [==============================] - 2s 21us/step - loss: 0.6885 - acc: 0.5846 - val_loss: 0.6888 - val_acc: 0.5619\n",
      "Epoch 3/3\n",
      "104548/104548 [==============================] - 2s 21us/step - loss: 0.6795 - acc: 0.6462 - val_loss: 0.6844 - val_acc: 0.5702\n",
      "130686/130686 [==============================] - 4s 32us/step\n",
      "200/200 [==============================] - 0s 74us/step\n",
      "Train on 104548 samples, validate on 26138 samples\n",
      "Epoch 1/3\n",
      "104548/104548 [==============================] - 3s 26us/step - loss: 0.6922 - acc: 0.5174 - val_loss: 0.6905 - val_acc: 0.5374\n",
      "Epoch 2/3\n",
      "104548/104548 [==============================] - 3s 25us/step - loss: 0.6824 - acc: 0.6081 - val_loss: 0.6847 - val_acc: 0.5613\n",
      "Epoch 3/3\n",
      "104548/104548 [==============================] - 2s 22us/step - loss: 0.6646 - acc: 0.6738 - val_loss: 0.6780 - val_acc: 0.5694\n",
      "130686/130686 [==============================] - 4s 31us/step\n",
      "200/200 [==============================] - 0s 53us/step\n",
      "Train on 104548 samples, validate on 26138 samples\n",
      "Epoch 1/3\n",
      "104548/104548 [==============================] - 3s 27us/step - loss: 0.6922 - acc: 0.5173 - val_loss: 0.6902 - val_acc: 0.5419\n",
      "Epoch 2/3\n",
      "104548/104548 [==============================] - 2s 22us/step - loss: 0.6813 - acc: 0.6151 - val_loss: 0.6828 - val_acc: 0.5687\n",
      "Epoch 3/3\n",
      "104548/104548 [==============================] - 2s 22us/step - loss: 0.6583 - acc: 0.6844 - val_loss: 0.6743 - val_acc: 0.5791\n",
      "130686/130686 [==============================] - 4s 30us/step\n",
      "200/200 [==============================] - 0s 55us/step\n",
      "Train on 104548 samples, validate on 26138 samples\n",
      "Epoch 1/3\n",
      "104548/104548 [==============================] - 3s 25us/step - loss: 0.6919 - acc: 0.5207 - val_loss: 0.6892 - val_acc: 0.5572\n",
      "Epoch 2/3\n",
      "104548/104548 [==============================] - 2s 23us/step - loss: 0.6775 - acc: 0.6285 - val_loss: 0.6801 - val_acc: 0.5779\n",
      "Epoch 3/3\n",
      "104548/104548 [==============================] - 2s 23us/step - loss: 0.6490 - acc: 0.6913 - val_loss: 0.6716 - val_acc: 0.5825\n",
      "130686/130686 [==============================] - 4s 32us/step\n",
      "200/200 [==============================] - 0s 60us/step\n",
      "Train on 104548 samples, validate on 26138 samples\n",
      "Epoch 1/3\n",
      "104548/104548 [==============================] - 3s 30us/step - loss: 0.6919 - acc: 0.5226 - val_loss: 0.6892 - val_acc: 0.5572\n",
      "Epoch 2/3\n",
      "104548/104548 [==============================] - 3s 26us/step - loss: 0.6767 - acc: 0.6341 - val_loss: 0.6788 - val_acc: 0.5758\n",
      "Epoch 3/3\n",
      "104548/104548 [==============================] - 3s 26us/step - loss: 0.6441 - acc: 0.6972 - val_loss: 0.6701 - val_acc: 0.5829\n",
      "130686/130686 [==============================] - 4s 32us/step\n",
      "200/200 [==============================] - 0s 55us/step\n",
      "Train on 104548 samples, validate on 26138 samples\n",
      "Epoch 1/3\n",
      "104548/104548 [==============================] - 5s 44us/step - loss: 0.6911 - acc: 0.5243 - val_loss: 0.6867 - val_acc: 0.5711\n",
      "Epoch 2/3\n",
      "104548/104548 [==============================] - 4s 42us/step - loss: 0.6656 - acc: 0.6518 - val_loss: 0.6719 - val_acc: 0.5793\n",
      "Epoch 3/3\n",
      "104548/104548 [==============================] - 4s 41us/step - loss: 0.6171 - acc: 0.7051 - val_loss: 0.6714 - val_acc: 0.5846\n",
      "130686/130686 [==============================] - 4s 32us/step\n",
      "200/200 [==============================] - 0s 60us/step\n",
      "Train on 104548 samples, validate on 26138 samples\n",
      "Epoch 1/3\n",
      "104548/104548 [==============================] - 6s 55us/step - loss: 0.6905 - acc: 0.5296 - val_loss: 0.6852 - val_acc: 0.5624\n",
      "Epoch 2/3\n",
      "104548/104548 [==============================] - 5s 52us/step - loss: 0.6580 - acc: 0.6593 - val_loss: 0.6686 - val_acc: 0.5774\n",
      "Epoch 3/3\n",
      "104548/104548 [==============================] - 5s 51us/step - loss: 0.6007 - acc: 0.7075 - val_loss: 0.6800 - val_acc: 0.5804\n",
      "130686/130686 [==============================] - 4s 32us/step\n",
      "200/200 [==============================] - 0s 73us/step\n",
      "Train on 104548 samples, validate on 26138 samples\n",
      "Epoch 1/3\n",
      "104548/104548 [==============================] - 7s 65us/step - loss: 0.6896 - acc: 0.5350 - val_loss: 0.6829 - val_acc: 0.5637\n",
      "Epoch 2/3\n",
      "104548/104548 [==============================] - 6s 61us/step - loss: 0.6498 - acc: 0.6644 - val_loss: 0.6684 - val_acc: 0.5751\n",
      "Epoch 3/3\n",
      "104548/104548 [==============================] - 6s 62us/step - loss: 0.5887 - acc: 0.7093 - val_loss: 0.6944 - val_acc: 0.5782\n",
      "130686/130686 [==============================] - 4s 33us/step\n",
      "200/200 [==============================] - 0s 58us/step\n",
      "Train on 104548 samples, validate on 26138 samples\n",
      "Epoch 1/3\n",
      "104548/104548 [==============================] - 8s 77us/step - loss: 0.6892 - acc: 0.5338 - val_loss: 0.6814 - val_acc: 0.5707\n",
      "Epoch 2/3\n",
      "104548/104548 [==============================] - 7s 71us/step - loss: 0.6441 - acc: 0.6669 - val_loss: 0.6681 - val_acc: 0.5819\n",
      "Epoch 3/3\n",
      "104548/104548 [==============================] - 7s 72us/step - loss: 0.5814 - acc: 0.7104 - val_loss: 0.7035 - val_acc: 0.5823\n",
      "130686/130686 [==============================] - 5s 37us/step\n",
      "200/200 [==============================] - 0s 341us/step\n",
      "Train on 104548 samples, validate on 26138 samples\n",
      "Epoch 1/3\n",
      "104548/104548 [==============================] - 9s 90us/step - loss: 0.6898 - acc: 0.5339 - val_loss: 0.6819 - val_acc: 0.5630\n",
      "Epoch 2/3\n",
      "104548/104548 [==============================] - 9s 85us/step - loss: 0.6424 - acc: 0.6656 - val_loss: 0.6680 - val_acc: 0.5768\n",
      "Epoch 3/3\n",
      "104548/104548 [==============================] - 9s 85us/step - loss: 0.5764 - acc: 0.7108 - val_loss: 0.7114 - val_acc: 0.5789\n",
      "130686/130686 [==============================] - 5s 35us/step\n",
      "200/200 [==============================] - 0s 66us/step\n",
      "Train on 104548 samples, validate on 26138 samples\n",
      "Epoch 1/3\n",
      "104548/104548 [==============================] - 11s 101us/step - loss: 0.6888 - acc: 0.5332 - val_loss: 0.6795 - val_acc: 0.5732\n",
      "Epoch 2/3\n",
      "104548/104548 [==============================] - 10s 97us/step - loss: 0.6369 - acc: 0.6702 - val_loss: 0.6712 - val_acc: 0.5789\n",
      "Epoch 3/3\n",
      "104548/104548 [==============================] - 11s 103us/step - loss: 0.5732 - acc: 0.7109 - val_loss: 0.7222 - val_acc: 0.5792\n",
      "130686/130686 [==============================] - 5s 35us/step\n",
      "200/200 [==============================] - 0s 55us/step\n",
      "Train on 104548 samples, validate on 26138 samples\n",
      "Epoch 1/3\n",
      "104548/104548 [==============================] - 12s 114us/step - loss: 0.6884 - acc: 0.5355 - val_loss: 0.6787 - val_acc: 0.5709\n",
      "Epoch 2/3\n",
      "104548/104548 [==============================] - 11s 108us/step - loss: 0.6338 - acc: 0.6706 - val_loss: 0.6738 - val_acc: 0.5790\n",
      "Epoch 3/3\n",
      "104548/104548 [==============================] - 11s 109us/step - loss: 0.5704 - acc: 0.7119 - val_loss: 0.7306 - val_acc: 0.5795\n",
      "130686/130686 [==============================] - 5s 35us/step\n",
      "200/200 [==============================] - 0s 66us/step\n",
      "Train on 104548 samples, validate on 26138 samples\n",
      "Epoch 1/3\n",
      "104548/104548 [==============================] - 15s 141us/step - loss: 0.6877 - acc: 0.5368 - val_loss: 0.6769 - val_acc: 0.5716\n",
      "Epoch 2/3\n",
      "104548/104548 [==============================] - 14s 134us/step - loss: 0.6281 - acc: 0.6716 - val_loss: 0.6794 - val_acc: 0.5763\n",
      "Epoch 3/3\n",
      "104548/104548 [==============================] - 14s 133us/step - loss: 0.5666 - acc: 0.7115 - val_loss: 0.7429 - val_acc: 0.5755\n",
      "130686/130686 [==============================] - 5s 36us/step\n",
      "200/200 [==============================] - 0s 72us/step\n",
      "Train on 104548 samples, validate on 26138 samples\n",
      "Epoch 1/3\n",
      "104548/104548 [==============================] - 17s 161us/step - loss: 0.6872 - acc: 0.5362 - val_loss: 0.6753 - val_acc: 0.5706\n",
      "Epoch 2/3\n",
      "104548/104548 [==============================] - 16s 155us/step - loss: 0.6241 - acc: 0.6734 - val_loss: 0.6830 - val_acc: 0.5776\n",
      "Epoch 3/3\n",
      "104548/104548 [==============================] - 16s 153us/step - loss: 0.5649 - acc: 0.7115 - val_loss: 0.7479 - val_acc: 0.5761\n",
      "130686/130686 [==============================] - 5s 36us/step\n",
      "200/200 [==============================] - 0s 63us/step\n",
      "Train on 104548 samples, validate on 26138 samples\n",
      "Epoch 1/3\n"
     ]
    },
    {
     "name": "stdout",
     "output_type": "stream",
     "text": [
      "104548/104548 [==============================] - 19s 178us/step - loss: 0.6868 - acc: 0.5383 - val_loss: 0.6740 - val_acc: 0.5755\n",
      "Epoch 2/3\n",
      "104548/104548 [==============================] - 18s 170us/step - loss: 0.6214 - acc: 0.6744 - val_loss: 0.6872 - val_acc: 0.5800\n",
      "Epoch 3/3\n",
      "104548/104548 [==============================] - 18s 172us/step - loss: 0.5632 - acc: 0.7122 - val_loss: 0.7538 - val_acc: 0.5786\n",
      "130686/130686 [==============================] - 5s 35us/step\n",
      "200/200 [==============================] - 0s 70us/step\n",
      "Train on 104548 samples, validate on 26138 samples\n",
      "Epoch 1/3\n",
      "104548/104548 [==============================] - 21s 197us/step - loss: 0.6864 - acc: 0.5379 - val_loss: 0.6733 - val_acc: 0.5725\n",
      "Epoch 2/3\n",
      "104548/104548 [==============================] - 20s 190us/step - loss: 0.6191 - acc: 0.6729 - val_loss: 0.6904 - val_acc: 0.5792\n",
      "Epoch 3/3\n",
      "104548/104548 [==============================] - 20s 191us/step - loss: 0.5621 - acc: 0.7118 - val_loss: 0.7583 - val_acc: 0.5780\n",
      "130686/130686 [==============================] - 5s 35us/step\n",
      "200/200 [==============================] - 0s 60us/step\n",
      "Train on 104548 samples, validate on 26138 samples\n",
      "Epoch 1/3\n",
      "104548/104548 [==============================] - 25s 242us/step - loss: 0.6857 - acc: 0.5380 - val_loss: 0.6714 - val_acc: 0.5789\n",
      "Epoch 2/3\n",
      "104548/104548 [==============================] - 25s 237us/step - loss: 0.6156 - acc: 0.6754 - val_loss: 0.6957 - val_acc: 0.5782\n",
      "Epoch 3/3\n",
      "104548/104548 [==============================] - 24s 234us/step - loss: 0.5610 - acc: 0.7106 - val_loss: 0.7620 - val_acc: 0.5795\n",
      "130686/130686 [==============================] - 5s 37us/step\n",
      "200/200 [==============================] - 0s 68us/step\n"
     ]
    }
   ],
   "source": [
    "learning_rate = learning_rates[1]\n",
    "epochs = epochss[0]\n",
    "latent_dim_list, train_score_list, test_score_list = [], [], []\n",
    "for latent_dim in latent_dims:\n",
    "    NNmodel = build_model(num_user, num_track, latent_dim)\n",
    "    NNmodel.compile(optimizer=Adam(lr=learning_rate), loss='binary_crossentropy', metrics=['accuracy'])\n",
    "    NNmodel.fit([np.array(user_train), np.array(track_train)], np.array(y_train), epochs=epochs, batch_size=200, validation_split = .2)\n",
    "    NN_train_score = NNmodel.evaluate([np.array(user_train), np.array(track_train)], np.array(y_train))[1]\n",
    "    NN_test_score = NNmodel.evaluate([np.array(user_test), np.array(track_test)], np.array(y_test))[1]\n",
    "    latent_dim_list.append(latent_dim)\n",
    "    train_score_list.append(NN_train_score)\n",
    "    test_score_list.append(NN_test_score)"
   ]
  },
  {
   "cell_type": "code",
   "execution_count": 26,
   "metadata": {},
   "outputs": [
    {
     "data": {
      "image/png": "[encoded data removed]",
      "text/plain": [
       "<Figure size 576x360 with 1 Axes>"
      ]
     },
     "metadata": {},
     "output_type": "display_data"
    }
   ],
   "source": [
    "make_plot(latent_dim_list, train_score_list, test_score_list, 'Latent Dimemsion')"
   ]
  },
  {
   "cell_type": "markdown",
   "metadata": {},
   "source": [
    "It seems like the dimension doesn't affect the result since the plot is very random. And according to previous paper, we select the dimension of 10."
   ]
  },
  {
   "cell_type": "markdown",
   "metadata": {},
   "source": [
    "**2. Learning Rage Selection**"
   ]
  },
  {
   "cell_type": "code",
   "execution_count": 27,
   "metadata": {},
   "outputs": [
    {
     "name": "stdout",
     "output_type": "stream",
     "text": [
      "Train on 104548 samples, validate on 26138 samples\n",
      "Epoch 1/3\n",
      "104548/104548 [==============================] - 6s 55us/step - loss: 0.6931 - acc: 0.5033 - val_loss: 0.6926 - val_acc: 0.5144\n",
      "Epoch 2/3\n",
      "104548/104548 [==============================] - 5s 48us/step - loss: 0.6911 - acc: 0.5441 - val_loss: 0.6916 - val_acc: 0.5291\n",
      "Epoch 3/3\n",
      "104548/104548 [==============================] - 5s 45us/step - loss: 0.6880 - acc: 0.5897 - val_loss: 0.6901 - val_acc: 0.5432\n",
      "130686/130686 [==============================] - 5s 42us/step\n",
      "200/200 [==============================] - 0s 70us/step\n",
      "Train on 104548 samples, validate on 26138 samples\n",
      "Epoch 1/3\n",
      "104548/104548 [==============================] - 5s 48us/step - loss: 0.6913 - acc: 0.5269 - val_loss: 0.6871 - val_acc: 0.5657\n",
      "Epoch 2/3\n",
      "104548/104548 [==============================] - 4s 40us/step - loss: 0.6664 - acc: 0.6506 - val_loss: 0.6718 - val_acc: 0.5768\n",
      "Epoch 3/3\n",
      "104548/104548 [==============================] - 4s 41us/step - loss: 0.6173 - acc: 0.7059 - val_loss: 0.6714 - val_acc: 0.5792\n",
      "130686/130686 [==============================] - 5s 39us/step\n",
      "200/200 [==============================] - 0s 81us/step\n",
      "Train on 104548 samples, validate on 26138 samples\n",
      "Epoch 1/3\n",
      "104548/104548 [==============================] - 5s 50us/step - loss: 0.6876 - acc: 0.5391 - val_loss: 0.6751 - val_acc: 0.5827\n",
      "Epoch 2/3\n",
      "104548/104548 [==============================] - 4s 40us/step - loss: 0.6257 - acc: 0.6711 - val_loss: 0.6787 - val_acc: 0.5808\n",
      "Epoch 3/3\n",
      "104548/104548 [==============================] - 4s 41us/step - loss: 0.5655 - acc: 0.7114 - val_loss: 0.7404 - val_acc: 0.5825\n",
      "130686/130686 [==============================] - 5s 38us/step\n",
      "200/200 [==============================] - 0s 72us/step\n",
      "Train on 104548 samples, validate on 26138 samples\n",
      "Epoch 1/3\n",
      "104548/104548 [==============================] - 5s 50us/step - loss: 0.6783 - acc: 0.5528 - val_loss: 0.6667 - val_acc: 0.5874\n",
      "Epoch 2/3\n",
      "104548/104548 [==============================] - 4s 41us/step - loss: 0.6002 - acc: 0.6758 - val_loss: 0.7057 - val_acc: 0.5815\n",
      "Epoch 3/3\n",
      "104548/104548 [==============================] - 4s 41us/step - loss: 0.5607 - acc: 0.7029 - val_loss: 0.7518 - val_acc: 0.5843\n",
      "130686/130686 [==============================] - 5s 39us/step\n",
      "200/200 [==============================] - 0s 73us/step\n",
      "Train on 104548 samples, validate on 26138 samples\n",
      "Epoch 1/3\n",
      "104548/104548 [==============================] - 5s 51us/step - loss: 0.6789 - acc: 0.5524 - val_loss: 0.6657 - val_acc: 0.5923\n",
      "Epoch 2/3\n",
      "104548/104548 [==============================] - 4s 41us/step - loss: 0.5997 - acc: 0.6752 - val_loss: 0.7013 - val_acc: 0.5828\n",
      "Epoch 3/3\n",
      "104548/104548 [==============================] - 4s 41us/step - loss: 0.5595 - acc: 0.7044 - val_loss: 0.7437 - val_acc: 0.5844\n",
      "130686/130686 [==============================] - 5s 39us/step\n",
      "200/200 [==============================] - 0s 69us/step\n",
      "Train on 104548 samples, validate on 26138 samples\n",
      "Epoch 1/3\n",
      "104548/104548 [==============================] - 5s 50us/step - loss: 0.6810 - acc: 0.5536 - val_loss: 0.6720 - val_acc: 0.5644\n",
      "Epoch 2/3\n",
      "104548/104548 [==============================] - 4s 41us/step - loss: 0.6068 - acc: 0.6673 - val_loss: 0.7087 - val_acc: 0.5720\n",
      "Epoch 3/3\n",
      "104548/104548 [==============================] - 4s 41us/step - loss: 0.5710 - acc: 0.6969 - val_loss: 0.7331 - val_acc: 0.5671\n",
      "130686/130686 [==============================] - 5s 39us/step\n",
      "200/200 [==============================] - 0s 82us/step\n",
      "Train on 104548 samples, validate on 26138 samples\n",
      "Epoch 1/3\n",
      "104548/104548 [==============================] - 5s 51us/step - loss: 0.6944 - acc: 0.5375 - val_loss: 0.6750 - val_acc: 0.5559\n",
      "Epoch 2/3\n",
      "104548/104548 [==============================] - 4s 38us/step - loss: 0.6318 - acc: 0.6491 - val_loss: 0.7451 - val_acc: 0.5575\n",
      "Epoch 3/3\n",
      "104548/104548 [==============================] - 4s 40us/step - loss: 0.5890 - acc: 0.6859 - val_loss: 0.7580 - val_acc: 0.5611\n",
      "130686/130686 [==============================] - 5s 40us/step\n",
      "200/200 [==============================] - 0s 71us/step\n",
      "Train on 104548 samples, validate on 26138 samples\n",
      "Epoch 1/3\n",
      "104548/104548 [==============================] - 5s 52us/step - loss: 0.9678 - acc: 0.5087 - val_loss: 1.1785 - val_acc: 0.5238\n",
      "Epoch 2/3\n",
      "104548/104548 [==============================] - 4s 40us/step - loss: 1.0751 - acc: 0.5488 - val_loss: 1.1768 - val_acc: 0.5383\n",
      "Epoch 3/3\n",
      "104548/104548 [==============================] - 4s 42us/step - loss: 1.1703 - acc: 0.5837 - val_loss: 1.0787 - val_acc: 0.5439\n",
      "130686/130686 [==============================] - 6s 46us/step\n",
      "200/200 [==============================] - 0s 79us/step\n"
     ]
    }
   ],
   "source": [
    "latent_dim = 10\n",
    "epochs = epochss[0]\n",
    "learning_rate_list, train_score_list, test_score_list = [], [], []\n",
    "for learning_rate in learning_rates:\n",
    "    NNmodel = build_model(num_user, num_track, latent_dim)\n",
    "    NNmodel.compile(optimizer=Adam(lr=learning_rate), loss='binary_crossentropy', metrics=['accuracy'])\n",
    "    NNmodel.fit([np.array(user_train), np.array(track_train)], np.array(y_train), epochs=epochs, batch_size=200, validation_split = .2)\n",
    "    NN_train_score = NNmodel.evaluate([np.array(user_train), np.array(track_train)], np.array(y_train))[1]\n",
    "    NN_test_score = NNmodel.evaluate([np.array(user_test), np.array(track_test)], np.array(y_test))[1]\n",
    "    learning_rate_list.append(learning_rate)\n",
    "    train_score_list.append(NN_train_score)\n",
    "    test_score_list.append(NN_test_score)"
   ]
  },
  {
   "cell_type": "code",
   "execution_count": 28,
   "metadata": {},
   "outputs": [
    {
     "data": {
      "image/png": "[encoded data removed]",
      "text/plain": [
       "<Figure size 576x360 with 1 Axes>"
      ]
     },
     "metadata": {},
     "output_type": "display_data"
    }
   ],
   "source": [
    "make_plot(learning_rate_list, train_score_list, test_score_list, 'Learning Rate')"
   ]
  },
  {
   "cell_type": "markdown",
   "metadata": {},
   "source": [
    "learning rate of 0.001 looks the best"
   ]
  },
  {
   "cell_type": "markdown",
   "metadata": {},
   "source": [
    "**Epochs Selection**"
   ]
  },
  {
   "cell_type": "code",
   "execution_count": 29,
   "metadata": {},
   "outputs": [
    {
     "name": "stdout",
     "output_type": "stream",
     "text": [
      "Train on 104548 samples, validate on 26138 samples\n",
      "Epoch 1/20\n",
      "104548/104548 [==============================] - 5s 52us/step - loss: 0.6876 - acc: 0.5389 - val_loss: 0.6748 - val_acc: 0.5799\n",
      "Epoch 2/20\n",
      "104548/104548 [==============================] - 5s 45us/step - loss: 0.6253 - acc: 0.6726 - val_loss: 0.6785 - val_acc: 0.5818\n",
      "Epoch 3/20\n",
      "104548/104548 [==============================] - 4s 42us/step - loss: 0.5654 - acc: 0.7113 - val_loss: 0.7411 - val_acc: 0.5808\n",
      "Epoch 4/20\n",
      "104548/104548 [==============================] - 4s 41us/step - loss: 0.5404 - acc: 0.7251 - val_loss: 0.8010 - val_acc: 0.5802\n",
      "Epoch 5/20\n",
      "104548/104548 [==============================] - 4s 41us/step - loss: 0.5278 - acc: 0.7309 - val_loss: 0.8491 - val_acc: 0.5803\n",
      "Epoch 6/20\n",
      "104548/104548 [==============================] - 5s 45us/step - loss: 0.5199 - acc: 0.7353 - val_loss: 0.8883 - val_acc: 0.5793\n",
      "Epoch 7/20\n",
      "104548/104548 [==============================] - 4s 41us/step - loss: 0.5148 - acc: 0.7373 - val_loss: 0.9216 - val_acc: 0.5798\n",
      "Epoch 8/20\n",
      "104548/104548 [==============================] - 5s 43us/step - loss: 0.5110 - acc: 0.7393 - val_loss: 0.9558 - val_acc: 0.5822\n",
      "Epoch 9/20\n",
      "104548/104548 [==============================] - 4s 42us/step - loss: 0.5080 - acc: 0.7398 - val_loss: 0.9850 - val_acc: 0.5818\n",
      "Epoch 10/20\n",
      "104548/104548 [==============================] - 5s 43us/step - loss: 0.5057 - acc: 0.7415 - val_loss: 1.0087 - val_acc: 0.5828\n",
      "Epoch 11/20\n",
      "104548/104548 [==============================] - 4s 42us/step - loss: 0.5037 - acc: 0.7419 - val_loss: 1.0339 - val_acc: 0.5818\n",
      "Epoch 12/20\n",
      "104548/104548 [==============================] - 4s 42us/step - loss: 0.5020 - acc: 0.7423 - val_loss: 1.0520 - val_acc: 0.5826\n",
      "Epoch 13/20\n",
      "104548/104548 [==============================] - 4s 43us/step - loss: 0.5005 - acc: 0.7432 - val_loss: 1.0797 - val_acc: 0.5821\n",
      "Epoch 14/20\n",
      "104548/104548 [==============================] - 4s 43us/step - loss: 0.4993 - acc: 0.7429 - val_loss: 1.0998 - val_acc: 0.5827\n",
      "Epoch 15/20\n",
      "104548/104548 [==============================] - 4s 42us/step - loss: 0.4981 - acc: 0.7436 - val_loss: 1.1198 - val_acc: 0.5817\n",
      "Epoch 16/20\n",
      "104548/104548 [==============================] - 4s 43us/step - loss: 0.4970 - acc: 0.7450 - val_loss: 1.1473 - val_acc: 0.5811\n",
      "Epoch 17/20\n",
      "104548/104548 [==============================] - 4s 42us/step - loss: 0.4961 - acc: 0.7456 - val_loss: 1.1679 - val_acc: 0.5818\n",
      "Epoch 18/20\n",
      "104548/104548 [==============================] - 4s 43us/step - loss: 0.4952 - acc: 0.7452 - val_loss: 1.1830 - val_acc: 0.5823\n",
      "Epoch 19/20\n",
      "104548/104548 [==============================] - 5s 43us/step - loss: 0.4944 - acc: 0.7460 - val_loss: 1.2040 - val_acc: 0.5819\n",
      "Epoch 20/20\n",
      "104548/104548 [==============================] - 4s 43us/step - loss: 0.4936 - acc: 0.7465 - val_loss: 1.2211 - val_acc: 0.5816\n"
     ]
    },
    {
     "data": {
      "text/plain": [
       "<keras.callbacks.History at 0x1a3cb97eb8>"
      ]
     },
     "execution_count": 29,
     "metadata": {},
     "output_type": "execute_result"
    }
   ],
   "source": [
    "latent_dim = 10\n",
    "learning_rate = 0.001\n",
    "epochs = 20\n",
    "NNmodel = build_model(num_user, num_track, latent_dim)\n",
    "NNmodel.compile(optimizer=Adam(lr=learning_rate), loss='binary_crossentropy', metrics=['accuracy'])\n",
    "NNmodel.fit([np.array(user_train), np.array(track_train)], np.array(y_train), epochs=epochs, batch_size=200, validation_split = .2)"
   ]
  },
  {
   "cell_type": "markdown",
   "metadata": {},
   "source": [
    "The result does not improve much around epochs 5 and hence we choose epochs 5."
   ]
  },
  {
   "cell_type": "markdown",
   "metadata": {},
   "source": [
    "**Create The Final Neural Network Model**"
   ]
  },
  {
   "cell_type": "code",
   "execution_count": 30,
   "metadata": {},
   "outputs": [],
   "source": [
    "#Use the optimal parameter and train the final model\n",
    "latent_dim = 10\n",
    "learning_rate = 0.001\n",
    "epochs = 5"
   ]
  },
  {
   "cell_type": "code",
   "execution_count": 31,
   "metadata": {},
   "outputs": [],
   "source": [
    "#get matrix of the full dataset\n",
    "no_interaction = 1\n",
    "num_user, num_track, matrix = get_matrix(data_full, no_interaction)\n",
    "user, track, y = get_features(matrix)\n",
    "data_nn = pd.DataFrame(user, columns=['user'])\n",
    "data_nn['track'] = track\n",
    "data_nn['y'] = y\n",
    "\n",
    "#get train and test data\n",
    "data_copy = data_nn.copy()\n",
    "data_test = pd.DataFrame(columns=['user', 'track', 'y'])\n",
    "for n in range(n_playlist*900, n_playlist*1000):\n",
    "    data_hide = data_copy[data_copy.user == n].iloc[0:2]\n",
    "    data_test = data_test.append(data_hide)\n",
    "    \n",
    "data_train = data_copy.drop(data_test.index)\n",
    "\n",
    "user_train = data_train.user\n",
    "track_train = data_train.track\n",
    "y_train = data_train.y\n",
    "\n",
    "user_test = data_test.user\n",
    "track_test = data_test.track\n",
    "y_test = data_test.y"
   ]
  },
  {
   "cell_type": "code",
   "execution_count": 32,
   "metadata": {},
   "outputs": [
    {
     "name": "stdout",
     "output_type": "stream",
     "text": [
      "__________________________________________________________________________________________________\n",
      "Layer (type)                    Output Shape         Param #     Connected to                     \n",
      "==================================================================================================\n",
      "user_train (InputLayer)         (None, 1)            0                                            \n",
      "__________________________________________________________________________________________________\n",
      "track_train (InputLayer)        (None, 1)            0                                            \n",
      "__________________________________________________________________________________________________\n",
      "embedding_53 (Embedding)        (None, 1, 10)        100000      user_train[0][0]                 \n",
      "__________________________________________________________________________________________________\n",
      "embedding_54 (Embedding)        (None, 1, 10)        1329200     track_train[0][0]                \n",
      "__________________________________________________________________________________________________\n",
      "flatten_53 (Flatten)            (None, 10)           0           embedding_53[0][0]               \n",
      "__________________________________________________________________________________________________\n",
      "flatten_54 (Flatten)            (None, 10)           0           embedding_54[0][0]               \n",
      "__________________________________________________________________________________________________\n",
      "add_27 (Add)                    (None, 10)           0           flatten_53[0][0]                 \n",
      "                                                                 flatten_54[0][0]                 \n",
      "__________________________________________________________________________________________________\n",
      "prediction (Dense)              (None, 1)            11          add_27[0][0]                     \n",
      "==================================================================================================\n",
      "Total params: 1,429,211\n",
      "Trainable params: 1,429,211\n",
      "Non-trainable params: 0\n",
      "__________________________________________________________________________________________________\n",
      "None\n"
     ]
    }
   ],
   "source": [
    "#Build the final model\n",
    "NNmodel = build_model(num_user, num_track, latent_dim)\n",
    "NNmodel.compile(optimizer=Adam(lr=learning_rate), loss='binary_crossentropy', metrics=['accuracy'])\n",
    "print(NNmodel.summary())"
   ]
  },
  {
   "cell_type": "code",
   "execution_count": 33,
   "metadata": {},
   "outputs": [
    {
     "name": "stdout",
     "output_type": "stream",
     "text": [
      "Train on 1042625 samples, validate on 260657 samples\n",
      "Epoch 1/5\n",
      "1042625/1042625 [==============================] - 126s 121us/step - loss: 0.5427 - acc: 0.7242 - val_loss: 0.5186 - val_acc: 0.7711\n",
      "Epoch 2/5\n",
      "1042625/1042625 [==============================] - 130s 124us/step - loss: 0.4545 - acc: 0.7924 - val_loss: 0.5388 - val_acc: 0.7666\n",
      "Epoch 3/5\n",
      "1042625/1042625 [==============================] - 124s 119us/step - loss: 0.4383 - acc: 0.8009 - val_loss: 0.5561 - val_acc: 0.7659\n",
      "Epoch 4/5\n",
      "1042625/1042625 [==============================] - 127s 121us/step - loss: 0.4297 - acc: 0.8055 - val_loss: 0.5694 - val_acc: 0.7653\n",
      "Epoch 5/5\n",
      "1042625/1042625 [==============================] - 127s 121us/step - loss: 0.4242 - acc: 0.8078 - val_loss: 0.5773 - val_acc: 0.7644\n",
      "1303282/1303282 [==============================] - 56s 43us/step\n",
      "2000/2000 [==============================] - 0s 48us/step\n"
     ]
    }
   ],
   "source": [
    "#Fit the model\n",
    "NNmodel.fit([np.array(user_train), np.array(track_train)], np.array(y_train), epochs=epochs, batch_size=200, validation_split = .2)\n",
    "NN_train_score = NNmodel.evaluate([np.array(user_train), np.array(track_train)], np.array(y_train))[1]\n",
    "NN_test_score = NNmodel.evaluate([np.array(user_test), np.array(track_test)], np.array(y_test))[1]"
   ]
  },
  {
   "cell_type": "code",
   "execution_count": 34,
   "metadata": {},
   "outputs": [
    {
     "name": "stdout",
     "output_type": "stream",
     "text": [
      "The NN train score is 0.81\n",
      "The NN test score is 0.78\n"
     ]
    }
   ],
   "source": [
    "print('The NN train score is {}'.format(round(NN_train_score, 2)))\n",
    "print('The NN test score is {}'.format(round(NN_test_score, 2)))"
   ]
  },
  {
   "cell_type": "code",
   "execution_count": 35,
   "metadata": {},
   "outputs": [
    {
     "name": "stdout",
     "output_type": "stream",
     "text": [
      "The minimum train score is 0.5\n",
      "The minimum test score is 0.5\n"
     ]
    }
   ],
   "source": [
    "min_train_score = 1 - np.mean(y_train)\n",
    "min_test_score = 1 - np.mean(y_test)\n",
    "print('The minimum train score is {}'.format(round(min_train_score, 2)))\n",
    "print('The minimum test score is {}'.format(round(min_test_score, 2)))"
   ]
  },
  {
   "cell_type": "markdown",
   "metadata": {},
   "source": [
    "From the result we can see that our model works much better than the minimum score which is 0.5 - 0.5.\n",
    "\n",
    "The test score means that in test set, we successfully predict a large portion of the test tracks for each user in to the right category (with interaction or without interaction. The result means that, given a user and a track, we can define if the user and the track has possible interactions. It is logically very useful in generating a recommendation list: we can take the top 100 tracks with highest probability of interaction from our full unique tracks dataset as the recommendation list.\n",
    "\n",
    "In the follwoing section of combined model, we will apply this idea to generate our final recommendation list."
   ]
  },
  {
   "cell_type": "markdown",
   "metadata": {},
   "source": [
    "# Combined Model: Generating Recommendation List"
   ]
  },
  {
   "cell_type": "markdown",
   "metadata": {},
   "source": [
    "As we did before, we will hide one track in each playlist(user) and generate a recommendation list, see if this recommendation list contain that hidden track. However, due to our limitation of training data size and the very large tracks in the the music bank, we don't expect that for a large percent of time, we can successfully find out that exact one hidden track. In real world, the user preference can be much broader than just one \"hidden\" track.\n",
    "\n",
    "We choose to combine the baseline model and Neural Network model together to generate the list. First, we will extract our previous recommendation list (including the not overlap tracks of top 5 similar playlists in baseline model). Instead of randomly select 100 of them as recommendation, we apply the trained Artifical Neural Network to rank the possible interactions and select the top 100 tracks with the highest interaction score and use them as our final recommendation list.\n",
    "\n",
    "As far as our prediction score increase (higher than what we get in baseline model), our neural network works."
   ]
  },
  {
   "cell_type": "code",
   "execution_count": 36,
   "metadata": {},
   "outputs": [],
   "source": [
    "recom_list_combine = recommendation_list.copy()"
   ]
  },
  {
   "cell_type": "code",
   "execution_count": 37,
   "metadata": {},
   "outputs": [],
   "source": [
    "recommendation_scores = np.zeros(len(track_hide))\n",
    "for x in range(len(track_hide)):\n",
    "    track_full_list = list(set(recom_list_combine[x]))\n",
    "    existing_track = data_train[data_train['user'] == x].track\n",
    "    hidden_track = list(track_test)[x*2]\n",
    "    predict_track = list(Counter(track_full_list)-Counter(existing_track))\n",
    "    predict_user = np.zeros(len(predict_track))+x\n",
    "    \n",
    "    s = NNmodel.predict([np.array(x).reshape(-1,1), np.array(hidden_track).reshape(-1,1)])\n",
    "    #print('score is {}'.format(s))\n",
    "    \n",
    "    predictions = np.transpose(NNmodel.predict([predict_user, np.array(predict_track)]))[0]\n",
    "    index = np.argsort(predictions)[-no_recommendation:]\n",
    "\n",
    "    recommendation_list_ann = np.array(predict_track)[index]\n",
    "    \n",
    "    if hidden_track in recommendation_list_ann:\n",
    "        recommendation_scores[x] = 1\n",
    "        \n",
    "total_score = np.average(recommendation_scores)"
   ]
  },
  {
   "cell_type": "code",
   "execution_count": 38,
   "metadata": {},
   "outputs": [
    {
     "name": "stdout",
     "output_type": "stream",
     "text": [
      "For 24.0 percent of time, we successfully include the hidden track\n"
     ]
    }
   ],
   "source": [
    "print('For {} percent of time, we successfully include the hidden track'.format(round(total_score*100)))"
   ]
  },
  {
   "cell_type": "markdown",
   "metadata": {},
   "source": [
    "Just as what we have expected, even thouth the predction accuracy of neural network is very high, the probability that the recommendation list we generate that will include the hidden track is very low because:\n",
    "\n",
    " - The hidden track is not the exact indicator of \"user preference\" because the user may have higher probability to like the other traks that does not neccessarily to be the hidden track! Hence the real \"user preference\" for the not hidden track in other playlist will be higher than the actual \"hidden track\" that we hided before. But in the scope of this project, we are not able to find out the true user preference and hence, we can just use the \"hidden track\" as a possible indicator.\n",
    " \n",
    "Therefore, even though our score is not very high, it did improve a lot comparing to our baseline model, which is basically in random basesa. This is consistant with our high neural network prediction results."
   ]
  },
  {
   "cell_type": "code",
   "execution_count": 39,
   "metadata": {},
   "outputs": [
    {
     "name": "stdout",
     "output_type": "stream",
     "text": [
      "2415.3134542769985\n"
     ]
    }
   ],
   "source": [
    "#calculate the running time of whole script\n",
    "end = timer()\n",
    "print(end-start)"
   ]
  }
 ],
 "metadata": {
  "kernelspec": {
   "display_name": "Python 3",
   "language": "python",
   "name": "python3"
  },
  "language_info": {
   "codemirror_mode": {
    "name": "ipython",
    "version": 3
   },
   "file_extension": ".py",
   "mimetype": "text/x-python",
   "name": "python",
   "nbconvert_exporter": "python",
   "pygments_lexer": "ipython3",
   "version": "3.6.5"
  }
 },
 "nbformat": 4,
 "nbformat_minor": 2
}
